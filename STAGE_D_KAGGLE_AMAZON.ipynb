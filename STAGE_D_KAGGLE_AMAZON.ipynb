{
 "cells": [
  {
   "cell_type": "code",
   "execution_count": 1,
   "id": "7815913a",
   "metadata": {},
   "outputs": [],
   "source": [
    "import pandas as pd\n",
    "import numpy as np\n",
    "import matplotlib.pyplot as plt\n",
    "import tensorflow as tf\n",
    "from tensorflow import keras\n",
    "import seaborn as sns\n",
    "%matplotlib inline\n",
    "from skimage import io\n",
    "from tqdm import tqdm\n",
    "import cv2\n",
    "import gc"
   ]
  },
  {
   "cell_type": "code",
   "execution_count": 2,
   "id": "fb02874f",
   "metadata": {},
   "outputs": [
    {
     "data": {
      "text/html": [
       "<div>\n",
       "<style scoped>\n",
       "    .dataframe tbody tr th:only-of-type {\n",
       "        vertical-align: middle;\n",
       "    }\n",
       "\n",
       "    .dataframe tbody tr th {\n",
       "        vertical-align: top;\n",
       "    }\n",
       "\n",
       "    .dataframe thead th {\n",
       "        text-align: right;\n",
       "    }\n",
       "</style>\n",
       "<table border=\"1\" class=\"dataframe\">\n",
       "  <thead>\n",
       "    <tr style=\"text-align: right;\">\n",
       "      <th></th>\n",
       "      <th>image_name</th>\n",
       "      <th>tags</th>\n",
       "    </tr>\n",
       "  </thead>\n",
       "  <tbody>\n",
       "    <tr>\n",
       "      <th>0</th>\n",
       "      <td>train_0</td>\n",
       "      <td>haze primary</td>\n",
       "    </tr>\n",
       "    <tr>\n",
       "      <th>1</th>\n",
       "      <td>train_1</td>\n",
       "      <td>agriculture clear primary water</td>\n",
       "    </tr>\n",
       "    <tr>\n",
       "      <th>2</th>\n",
       "      <td>train_2</td>\n",
       "      <td>clear primary</td>\n",
       "    </tr>\n",
       "    <tr>\n",
       "      <th>3</th>\n",
       "      <td>train_3</td>\n",
       "      <td>clear primary</td>\n",
       "    </tr>\n",
       "    <tr>\n",
       "      <th>4</th>\n",
       "      <td>train_4</td>\n",
       "      <td>agriculture clear habitation primary road</td>\n",
       "    </tr>\n",
       "  </tbody>\n",
       "</table>\n",
       "</div>"
      ],
      "text/plain": [
       "  image_name                                       tags\n",
       "0    train_0                               haze primary\n",
       "1    train_1            agriculture clear primary water\n",
       "2    train_2                              clear primary\n",
       "3    train_3                              clear primary\n",
       "4    train_4  agriculture clear habitation primary road"
      ]
     },
     "execution_count": 2,
     "metadata": {},
     "output_type": "execute_result"
    }
   ],
   "source": [
    "train_df=pd.read_csv(r'C:\\Users\\MAMATHA\\Desktop\\planet\\train_classes.csv')\n",
    "train_df.head()"
   ]
  },
  {
   "cell_type": "code",
   "execution_count": 3,
   "id": "22e5e296",
   "metadata": {},
   "outputs": [
    {
     "data": {
      "text/html": [
       "<div>\n",
       "<style scoped>\n",
       "    .dataframe tbody tr th:only-of-type {\n",
       "        vertical-align: middle;\n",
       "    }\n",
       "\n",
       "    .dataframe tbody tr th {\n",
       "        vertical-align: top;\n",
       "    }\n",
       "\n",
       "    .dataframe thead th {\n",
       "        text-align: right;\n",
       "    }\n",
       "</style>\n",
       "<table border=\"1\" class=\"dataframe\">\n",
       "  <thead>\n",
       "    <tr style=\"text-align: right;\">\n",
       "      <th></th>\n",
       "      <th>image_name</th>\n",
       "      <th>tags</th>\n",
       "    </tr>\n",
       "  </thead>\n",
       "  <tbody>\n",
       "    <tr>\n",
       "      <th>0</th>\n",
       "      <td>test_0</td>\n",
       "      <td>primary clear agriculture road water</td>\n",
       "    </tr>\n",
       "    <tr>\n",
       "      <th>1</th>\n",
       "      <td>test_1</td>\n",
       "      <td>primary clear agriculture road water</td>\n",
       "    </tr>\n",
       "    <tr>\n",
       "      <th>2</th>\n",
       "      <td>test_2</td>\n",
       "      <td>primary clear agriculture road water</td>\n",
       "    </tr>\n",
       "    <tr>\n",
       "      <th>3</th>\n",
       "      <td>test_3</td>\n",
       "      <td>primary clear agriculture road water</td>\n",
       "    </tr>\n",
       "    <tr>\n",
       "      <th>4</th>\n",
       "      <td>test_4</td>\n",
       "      <td>primary clear agriculture road water</td>\n",
       "    </tr>\n",
       "  </tbody>\n",
       "</table>\n",
       "</div>"
      ],
      "text/plain": [
       "  image_name                                  tags\n",
       "0     test_0  primary clear agriculture road water\n",
       "1     test_1  primary clear agriculture road water\n",
       "2     test_2  primary clear agriculture road water\n",
       "3     test_3  primary clear agriculture road water\n",
       "4     test_4  primary clear agriculture road water"
      ]
     },
     "execution_count": 3,
     "metadata": {},
     "output_type": "execute_result"
    }
   ],
   "source": [
    "test_df=pd.read_csv(r'C:\\Users\\MAMATHA\\Desktop\\planet\\sample_submission.csv')\n",
    "test_df.head()"
   ]
  },
  {
   "cell_type": "code",
   "execution_count": 4,
   "id": "139419f5",
   "metadata": {},
   "outputs": [
    {
     "data": {
      "text/plain": [
       "['haze', 'primary', 'agriculture']"
      ]
     },
     "execution_count": 4,
     "metadata": {},
     "output_type": "execute_result"
    }
   ],
   "source": [
    "label_list = []\n",
    "for tag_str in train_df.tags.values:\n",
    "    labels = tag_str.split(' ')\n",
    "    for label in labels:\n",
    "        label_list.append(label)\n",
    "label_list[:3]"
   ]
  },
  {
   "cell_type": "markdown",
   "id": "217120af",
   "metadata": {},
   "source": [
    "# Finding unique labels"
   ]
  },
  {
   "cell_type": "code",
   "execution_count": 5,
   "id": "046f06f0",
   "metadata": {},
   "outputs": [
    {
     "data": {
      "text/plain": [
       "defaultdict(int,\n",
       "            {'haze': 2697,\n",
       "             'primary': 37513,\n",
       "             'agriculture': 12315,\n",
       "             'clear': 28431,\n",
       "             'water': 7411,\n",
       "             'habitation': 3660,\n",
       "             'road': 8071,\n",
       "             'cultivation': 4547,\n",
       "             'slash_burn': 209,\n",
       "             'cloudy': 2089,\n",
       "             'partly_cloudy': 7261,\n",
       "             'conventional_mine': 100,\n",
       "             'bare_ground': 862,\n",
       "             'artisinal_mine': 339,\n",
       "             'blooming': 332,\n",
       "             'selective_logging': 340,\n",
       "             'blow_down': 101})"
      ]
     },
     "execution_count": 5,
     "metadata": {},
     "output_type": "execute_result"
    }
   ],
   "source": [
    "from collections import Counter, defaultdict\n",
    "count_ = defaultdict(int)\n",
    "for i in label_list:\n",
    "        count_[i] += 1\n",
    "count_"
   ]
  },
  {
   "cell_type": "code",
   "execution_count": 6,
   "id": "37aaaf01",
   "metadata": {},
   "outputs": [
    {
     "data": {
      "image/png": "[encoded data removed]",
      "text/plain": [
       "<Figure size 432x288 with 1 Axes>"
      ]
     },
     "metadata": {
      "needs_background": "light"
     },
     "output_type": "display_data"
    }
   ],
   "source": [
    "tags = list(count_.keys()) \n",
    "y = list(count_.values())\n",
    "sns.barplot(x = tags, y = y);\n",
    "plt.xlabel('labels');\n",
    "plt.xticks(rotation = 90);\n",
    "plt.title('tags for train set');"
   ]
  },
  {
   "cell_type": "markdown",
   "id": "3bbfa78b",
   "metadata": {},
   "source": [
    "Placeholders for test set"
   ]
  },
  {
   "cell_type": "code",
   "execution_count": 7,
   "id": "1e9a0865",
   "metadata": {},
   "outputs": [
    {
     "data": {
      "text/plain": [
       "Text(0.5, 1.0, 'Tag counts for test set')"
      ]
     },
     "execution_count": 7,
     "metadata": {},
     "output_type": "execute_result"
    },
    {
     "data": {
      "image/png": "[encoded data removed]",
      "text/plain": [
       "<Figure size 432x288 with 1 Axes>"
      ]
     },
     "metadata": {
      "needs_background": "light"
     },
     "output_type": "display_data"
    }
   ],
   "source": [
    "test_label = test_df['tags'].apply(lambda x: x.split(' '))\n",
    "from collections import Counter, defaultdict\n",
    "test_counts = defaultdict(int)\n",
    "for i in test_label:\n",
    "    for j in i:\n",
    "        test_counts[j] += 1\n",
    "\n",
    "tag_list_test=list(test_counts.keys()) \n",
    "test_count=list(test_counts.values())\n",
    "sns.barplot(x=tag_list_test, y = test_count);\n",
    "plt.xlabel('labels');\n",
    "plt.xticks(rotation = 90);\n",
    "plt.title('Tag counts for test set')"
   ]
  },
  {
   "cell_type": "markdown",
   "id": "fe3d737e",
   "metadata": {},
   "source": [
    "# visualize an image"
   ]
  },
  {
   "cell_type": "code",
   "execution_count": 8,
   "id": "8f0da073",
   "metadata": {},
   "outputs": [],
   "source": [
    "import matplotlib.pyplot as plt\n",
    "import matplotlib.image as mpimg\n",
    "\n",
    "img=mpimg.imread('C:\\\\Users\\\\MAMATHA\\\\Desktop\\\\planet\\\\train-jpg\\\\train_8.jpg')"
   ]
  },
  {
   "cell_type": "code",
   "execution_count": 9,
   "id": "6ba6c161",
   "metadata": {},
   "outputs": [
    {
     "data": {
      "image/png": "[encoded data removed]",
      "text/plain": [
       "<Figure size 432x288 with 1 Axes>"
      ]
     },
     "metadata": {
      "needs_background": "light"
     },
     "output_type": "display_data"
    }
   ],
   "source": [
    "imgplot = plt.imshow(img)"
   ]
  },
  {
   "cell_type": "markdown",
   "id": "92a504f7",
   "metadata": {},
   "source": [
    "Dictonary for class label and its respective numerical value"
   ]
  },
  {
   "cell_type": "code",
   "execution_count": 10,
   "id": "a8e5c1ed",
   "metadata": {},
   "outputs": [
    {
     "data": {
      "text/plain": [
       "{'haze': 0,\n",
       " 'primary': 1,\n",
       " 'agriculture': 2,\n",
       " 'clear': 3,\n",
       " 'water': 4,\n",
       " 'habitation': 5,\n",
       " 'road': 6,\n",
       " 'cultivation': 7,\n",
       " 'slash_burn': 8,\n",
       " 'cloudy': 9,\n",
       " 'partly_cloudy': 10,\n",
       " 'conventional_mine': 11,\n",
       " 'bare_ground': 12,\n",
       " 'artisinal_mine': 13,\n",
       " 'blooming': 14,\n",
       " 'selective_logging': 15,\n",
       " 'blow_down': 16}"
      ]
     },
     "execution_count": 10,
     "metadata": {},
     "output_type": "execute_result"
    }
   ],
   "source": [
    "class_label = { tag: name for name, tag in enumerate(tags)}\n",
    "class_label"
   ]
  },
  {
   "cell_type": "markdown",
   "id": "7bed9ab4",
   "metadata": {},
   "source": [
    "MAKING AN ARRAY OF UNIQUE LABELS"
   ]
  },
  {
   "cell_type": "code",
   "execution_count": 11,
   "id": "8a32bede",
   "metadata": {},
   "outputs": [],
   "source": [
    "train_path = 'C:\\\\Users\\\\MAMATHA\\\\Desktop\\\\planet\\\\train-jpg'\n",
    "test_path = 'C:\\\\Users\\\\MAMATHA\\\\Desktop\\\\planet\\\\test-jpg'"
   ]
  },
  {
   "cell_type": "code",
   "execution_count": 12,
   "id": "a63fd1dc",
   "metadata": {},
   "outputs": [
    {
     "data": {
      "text/html": [
       "<div>\n",
       "<style scoped>\n",
       "    .dataframe tbody tr th:only-of-type {\n",
       "        vertical-align: middle;\n",
       "    }\n",
       "\n",
       "    .dataframe tbody tr th {\n",
       "        vertical-align: top;\n",
       "    }\n",
       "\n",
       "    .dataframe thead th {\n",
       "        text-align: right;\n",
       "    }\n",
       "</style>\n",
       "<table border=\"1\" class=\"dataframe\">\n",
       "  <thead>\n",
       "    <tr style=\"text-align: right;\">\n",
       "      <th></th>\n",
       "      <th>image_name</th>\n",
       "      <th>tags</th>\n",
       "    </tr>\n",
       "  </thead>\n",
       "  <tbody>\n",
       "    <tr>\n",
       "      <th>10</th>\n",
       "      <td>train_10</td>\n",
       "      <td>agriculture clear primary slash_burn water</td>\n",
       "    </tr>\n",
       "  </tbody>\n",
       "</table>\n",
       "</div>"
      ],
      "text/plain": [
       "   image_name                                        tags\n",
       "10   train_10  agriculture clear primary slash_burn water"
      ]
     },
     "execution_count": 12,
     "metadata": {},
     "output_type": "execute_result"
    }
   ],
   "source": [
    "train_df[train_df['image_name'] == 'train_10']"
   ]
  },
  {
   "cell_type": "code",
   "execution_count": 13,
   "id": "85cf10cf",
   "metadata": {},
   "outputs": [
    {
     "name": "stdout",
     "output_type": "stream",
     "text": [
      "['selective_logging', 'haze', 'cultivation', 'cloudy', 'bare_ground', 'agriculture', 'road', 'primary', 'clear', 'habitation', 'artisinal_mine', 'slash_burn', 'blow_down', 'partly_cloudy', 'conventional_mine', 'blooming', 'water']\n"
     ]
    }
   ],
   "source": [
    "unique_labels = set()\n",
    "def append_labels(tags):\n",
    "    for tag in tags.split():\n",
    "        unique_labels.add(tag)\n",
    "\n",
    "train_classes = train_df.copy()\n",
    "train_classes['tags'].apply(append_labels)\n",
    "unique_labels = list(unique_labels)\n",
    "print(unique_labels)"
   ]
  },
  {
   "cell_type": "code",
   "execution_count": 14,
   "id": "5e8072f2",
   "metadata": {},
   "outputs": [
    {
     "data": {
      "text/plain": [
       "17"
      ]
     },
     "execution_count": 14,
     "metadata": {},
     "output_type": "execute_result"
    }
   ],
   "source": [
    "len(unique_labels)"
   ]
  },
  {
   "cell_type": "code",
   "execution_count": 15,
   "id": "83e92c63",
   "metadata": {},
   "outputs": [],
   "source": [
    "assert len(train_df['image_name'].unique()) == train_df.shape[0]"
   ]
  },
  {
   "cell_type": "code",
   "execution_count": 16,
   "id": "aa66a57e",
   "metadata": {},
   "outputs": [
    {
     "data": {
      "text/html": [
       "<div>\n",
       "<style scoped>\n",
       "    .dataframe tbody tr th:only-of-type {\n",
       "        vertical-align: middle;\n",
       "    }\n",
       "\n",
       "    .dataframe tbody tr th {\n",
       "        vertical-align: top;\n",
       "    }\n",
       "\n",
       "    .dataframe thead th {\n",
       "        text-align: right;\n",
       "    }\n",
       "</style>\n",
       "<table border=\"1\" class=\"dataframe\">\n",
       "  <thead>\n",
       "    <tr style=\"text-align: right;\">\n",
       "      <th></th>\n",
       "      <th>image_name</th>\n",
       "      <th>tags</th>\n",
       "      <th>selective_logging</th>\n",
       "      <th>haze</th>\n",
       "      <th>cultivation</th>\n",
       "      <th>cloudy</th>\n",
       "      <th>bare_ground</th>\n",
       "      <th>agriculture</th>\n",
       "      <th>road</th>\n",
       "      <th>primary</th>\n",
       "      <th>clear</th>\n",
       "      <th>habitation</th>\n",
       "      <th>artisinal_mine</th>\n",
       "      <th>slash_burn</th>\n",
       "      <th>blow_down</th>\n",
       "      <th>partly_cloudy</th>\n",
       "      <th>conventional_mine</th>\n",
       "      <th>blooming</th>\n",
       "      <th>water</th>\n",
       "    </tr>\n",
       "  </thead>\n",
       "  <tbody>\n",
       "    <tr>\n",
       "      <th>0</th>\n",
       "      <td>train_0.jpg</td>\n",
       "      <td>haze primary</td>\n",
       "      <td>0</td>\n",
       "      <td>1</td>\n",
       "      <td>0</td>\n",
       "      <td>0</td>\n",
       "      <td>0</td>\n",
       "      <td>0</td>\n",
       "      <td>0</td>\n",
       "      <td>1</td>\n",
       "      <td>0</td>\n",
       "      <td>0</td>\n",
       "      <td>0</td>\n",
       "      <td>0</td>\n",
       "      <td>0</td>\n",
       "      <td>0</td>\n",
       "      <td>0</td>\n",
       "      <td>0</td>\n",
       "      <td>0</td>\n",
       "    </tr>\n",
       "    <tr>\n",
       "      <th>1</th>\n",
       "      <td>train_1.jpg</td>\n",
       "      <td>agriculture clear primary water</td>\n",
       "      <td>0</td>\n",
       "      <td>0</td>\n",
       "      <td>0</td>\n",
       "      <td>0</td>\n",
       "      <td>0</td>\n",
       "      <td>1</td>\n",
       "      <td>0</td>\n",
       "      <td>1</td>\n",
       "      <td>1</td>\n",
       "      <td>0</td>\n",
       "      <td>0</td>\n",
       "      <td>0</td>\n",
       "      <td>0</td>\n",
       "      <td>0</td>\n",
       "      <td>0</td>\n",
       "      <td>0</td>\n",
       "      <td>1</td>\n",
       "    </tr>\n",
       "    <tr>\n",
       "      <th>2</th>\n",
       "      <td>train_2.jpg</td>\n",
       "      <td>clear primary</td>\n",
       "      <td>0</td>\n",
       "      <td>0</td>\n",
       "      <td>0</td>\n",
       "      <td>0</td>\n",
       "      <td>0</td>\n",
       "      <td>0</td>\n",
       "      <td>0</td>\n",
       "      <td>1</td>\n",
       "      <td>1</td>\n",
       "      <td>0</td>\n",
       "      <td>0</td>\n",
       "      <td>0</td>\n",
       "      <td>0</td>\n",
       "      <td>0</td>\n",
       "      <td>0</td>\n",
       "      <td>0</td>\n",
       "      <td>0</td>\n",
       "    </tr>\n",
       "    <tr>\n",
       "      <th>3</th>\n",
       "      <td>train_3.jpg</td>\n",
       "      <td>clear primary</td>\n",
       "      <td>0</td>\n",
       "      <td>0</td>\n",
       "      <td>0</td>\n",
       "      <td>0</td>\n",
       "      <td>0</td>\n",
       "      <td>0</td>\n",
       "      <td>0</td>\n",
       "      <td>1</td>\n",
       "      <td>1</td>\n",
       "      <td>0</td>\n",
       "      <td>0</td>\n",
       "      <td>0</td>\n",
       "      <td>0</td>\n",
       "      <td>0</td>\n",
       "      <td>0</td>\n",
       "      <td>0</td>\n",
       "      <td>0</td>\n",
       "    </tr>\n",
       "    <tr>\n",
       "      <th>4</th>\n",
       "      <td>train_4.jpg</td>\n",
       "      <td>agriculture clear habitation primary road</td>\n",
       "      <td>0</td>\n",
       "      <td>0</td>\n",
       "      <td>0</td>\n",
       "      <td>0</td>\n",
       "      <td>0</td>\n",
       "      <td>1</td>\n",
       "      <td>1</td>\n",
       "      <td>1</td>\n",
       "      <td>1</td>\n",
       "      <td>1</td>\n",
       "      <td>0</td>\n",
       "      <td>0</td>\n",
       "      <td>0</td>\n",
       "      <td>0</td>\n",
       "      <td>0</td>\n",
       "      <td>0</td>\n",
       "      <td>0</td>\n",
       "    </tr>\n",
       "  </tbody>\n",
       "</table>\n",
       "</div>"
      ],
      "text/plain": [
       "    image_name                                       tags  selective_logging  \\\n",
       "0  train_0.jpg                               haze primary                  0   \n",
       "1  train_1.jpg            agriculture clear primary water                  0   \n",
       "2  train_2.jpg                              clear primary                  0   \n",
       "3  train_3.jpg                              clear primary                  0   \n",
       "4  train_4.jpg  agriculture clear habitation primary road                  0   \n",
       "\n",
       "   haze  cultivation  cloudy  bare_ground  agriculture  road  primary  clear  \\\n",
       "0     1            0       0            0            0     0        1      0   \n",
       "1     0            0       0            0            1     0        1      1   \n",
       "2     0            0       0            0            0     0        1      1   \n",
       "3     0            0       0            0            0     0        1      1   \n",
       "4     0            0       0            0            1     1        1      1   \n",
       "\n",
       "   habitation  artisinal_mine  slash_burn  blow_down  partly_cloudy  \\\n",
       "0           0               0           0          0              0   \n",
       "1           0               0           0          0              0   \n",
       "2           0               0           0          0              0   \n",
       "3           0               0           0          0              0   \n",
       "4           1               0           0          0              0   \n",
       "\n",
       "   conventional_mine  blooming  water  \n",
       "0                  0         0      0  \n",
       "1                  0         0      1  \n",
       "2                  0         0      0  \n",
       "3                  0         0      0  \n",
       "4                  0         0      0  "
      ]
     },
     "execution_count": 16,
     "metadata": {},
     "output_type": "execute_result"
    }
   ],
   "source": [
    "for tag in unique_labels:   #one hot encoding\n",
    "    train_classes[tag] = train_classes['tags'].apply(lambda x: 1 if tag in x.split() else 0)\n",
    "    \n",
    "# adding '.jpg' extension to 'image_name'\n",
    "train_classes['image_name'] = train_classes['image_name'].apply(lambda x: '{}.jpg'.format(x)) \n",
    "train_classes.head()"
   ]
  },
  {
   "cell_type": "code",
   "execution_count": 17,
   "id": "6a6bb501",
   "metadata": {},
   "outputs": [],
   "source": [
    "import tensorflow as tf"
   ]
  },
  {
   "cell_type": "code",
   "execution_count": 18,
   "id": "63691526",
   "metadata": {},
   "outputs": [
    {
     "name": "stdout",
     "output_type": "stream",
     "text": [
      "Found 40479 validated image filenames.\n"
     ]
    }
   ],
   "source": [
    "y_col = list(train_classes.columns[2:]) # storing the tags column names as a variable\n",
    "\n",
    "# initializing an image generator with some data augumentation\n",
    "image_gen = tf.keras.preprocessing.image.ImageDataGenerator(rescale=1/255)\n",
    "\n",
    "# loading images from dataframe\n",
    "X = image_gen.flow_from_dataframe(dataframe=train_classes, \\\n",
    "        directory='C:\\\\Users\\\\MAMATHA\\\\Desktop\\\\planet\\\\train-jpg', x_col='image_name', y_col=y_col, \\\n",
    "       target_size=(64, 64), class_mode='raw', seed=1, batch_size=64)"
   ]
  },
  {
   "cell_type": "code",
   "execution_count": 19,
   "id": "400f5b90",
   "metadata": {},
   "outputs": [
    {
     "name": "stdout",
     "output_type": "stream",
     "text": [
      "each image's shape is (64, 64, 3)\n",
      "each label's shape is (17,)\n",
      "we have 633 batches\n",
      "each batch has 64 images/labels\n",
      "40479/128 is 316.24, so the last batch will have 64 images/labels\n"
     ]
    }
   ],
   "source": [
    "# let's abitrarily view an image\n",
    "x54 = X[0][0][54] # first batch, images, 109th image\n",
    "y54 = X[0][1][54] # first batch, labels, 109th label\n",
    "print(\"each image's shape is {}\".format(x54.shape))\n",
    "print(\"each label's shape is {}\".format(y54.shape))\n",
    "print('we have {} batches'.format(len(X)))\n",
    "print('each batch has {} images/labels'.format(X[0][0].shape[0]))\n",
    "print('40479/128 is {:.2F}, so the last batch will have {} images/labels'.format(40479/128, X[316][0].shape[0]))"
   ]
  },
  {
   "cell_type": "code",
   "execution_count": 20,
   "id": "07eec7e4",
   "metadata": {},
   "outputs": [],
   "source": [
    "from tensorflow.keras.models import Sequential\n",
    "from tensorflow.keras.layers import Dense, Flatten, BatchNormalization, Conv2D\n",
    "from tensorflow.keras.optimizers import Adam\n",
    "from tensorflow.keras.callbacks import EarlyStopping, ModelCheckpoint\n",
    "from tensorflow.keras.optimizers import SGD"
   ]
  },
  {
   "cell_type": "code",
   "execution_count": 21,
   "id": "1f4c2d4b",
   "metadata": {},
   "outputs": [],
   "source": [
    "def fbeta(ytrue , ypred, beta=2, epsilon=1e-4):\n",
    "    beta_squarred = beta**2\n",
    "\n",
    "    ytrue = tf.cast(ytrue, tf.float32)\n",
    "    ypred = tf.cast(tf.greater(tf.cast(ypred, tf.float32), tf.constant(0.5)), tf.float32)\n",
    "        \n",
    "    tp = tf.reduce_sum(ytrue * ypred, axis=1)\n",
    "    fp = tf.reduce_sum(ypred, axis=1) - tp\n",
    "    fn = tf.reduce_sum(ytrue, axis=1) - tp\n",
    "    \n",
    "    precision = tp/(tp+fp+epsilon)\n",
    "    recall = tp/(tp+fn+epsilon)\n",
    "    \n",
    "    fb = (1+beta_squarred)*precision*recall / (beta_squarred*precision + recall + epsilon)\n",
    "    return fb"
   ]
  },
  {
   "cell_type": "code",
   "execution_count": 22,
   "id": "e032c6a4",
   "metadata": {},
   "outputs": [],
   "source": [
    "def multi_label_acc(ytrue , ypred, epsilon=1e-4):\n",
    "    \n",
    "    ytrue = tf.cast(ytrue, tf.float32)\n",
    "    ypred = tf.cast(tf.greater(tf.cast(ypred, tf.float32), tf.constant(0.5)), tf.float32)\n",
    "    \n",
    "    tp = tf.reduce_sum(ytrue * ypred, axis=1)\n",
    "    fp = tf.reduce_sum(ypred, axis=1) - tp\n",
    "    fn = tf.reduce_sum(ytrue, axis=1) - tp\n",
    "    \n",
    "    ytrue = tf.cast(ytrue, tf.bool)\n",
    "    ypred = tf.cast(ypred, tf.bool)\n",
    "    \n",
    "    tn = tf.reduce_sum(tf.cast(tf.logical_not(ytrue), tf.float32) * tf.cast(tf.logical_not(ypred), tf.float32),\\\n",
    "                       axis=1)\n",
    "    \n",
    "    return (tp+tn)/(tp+tn+fp+fn+epsilon)"
   ]
  },
  {
   "cell_type": "code",
   "execution_count": 23,
   "id": "a376b807",
   "metadata": {},
   "outputs": [],
   "source": [
    "def build_model():\n",
    "    in_shape=(64, 64, 3)\n",
    "    out_shape=17\n",
    "\n",
    "    # load mannequin\n",
    "\n",
    "    mannequin = VGG16(include_top=False, input_shape=in_shape)\n",
    "\n",
    "    # mark loaded layers as not trainable\n",
    "\n",
    "    for layer in mannequin.layers:\n",
    "        layer.trainable = False\n",
    "\n",
    "    # enable final vgg block to be trainable\n",
    "\n",
    "    mannequin.get_layer(\"block5_conv1\").trainable = True\n",
    "\n",
    "    mannequin.get_layer(\"block5_conv2\").trainable = True\n",
    "\n",
    "    mannequin.get_layer(\"block5_conv3\").trainable = True\n",
    "\n",
    "    mannequin.get_layer(\"block5_pool\").trainable = True\n",
    "\n",
    "    # add new classifier layers\n",
    "\n",
    "    flat1 = Flatten()(mannequin.layers[-1].output)\n",
    "\n",
    "    class1 = Dense(128, activation=\"relu\", kernel_initializer=\"he_uniform\")(flat1)\n",
    "\n",
    "    output = Dense(out_shape, activation=\"sigmoid\")(class1)\n",
    "\n",
    "    # outline new mannequin\n",
    "\n",
    "    mannequin = Model(inputs=mannequin.inputs, outputs=output)\n",
    "\n",
    "    # compile mannequin\n",
    "    \n",
    "    choose = SGD(lr=0.01, momentum=0.9)\n",
    "\n",
    "    mannequin.compile(optimizer=choose, loss=\"binary_crossentropy\", metrics=[fbeta, multi_label_acc])\n",
    "    \n",
    "    return mannequin"
   ]
  },
  {
   "cell_type": "code",
   "execution_count": 24,
   "id": "8ac47b81",
   "metadata": {},
   "outputs": [],
   "source": [
    "save_best_check_point = ModelCheckpoint(filepath='best_model.hdf5', monitor='val_fbeta',mode='max', save_best_only=True, save_weights_only=True)"
   ]
  },
  {
   "cell_type": "code",
   "execution_count": 25,
   "id": "da256a80",
   "metadata": {},
   "outputs": [
    {
     "name": "stdout",
     "output_type": "stream",
     "text": [
      "Found 32384 validated image filenames.\n",
      "Found 8095 validated image filenames.\n"
     ]
    }
   ],
   "source": [
    "train_image_gen = tf.keras.preprocessing.image.ImageDataGenerator(rescale=1/255,validation_split=0.2)\n",
    "\n",
    "# generating the 80% training image data\n",
    "train_gen = train_image_gen.flow_from_dataframe(dataframe=train_classes, \\\n",
    "        directory='C:\\\\Users\\\\MAMATHA\\\\Desktop\\\\planet\\\\train-jpg', x_col='image_name', y_col=y_col, \\\n",
    "       target_size=(64, 64), class_mode='raw', seed=0, batch_size=64, subset='training')\n",
    "\n",
    "# generating the 20% validation image data\n",
    "val_gen = train_image_gen.flow_from_dataframe(dataframe=train_classes, \\\n",
    "        directory='C:\\\\Users\\\\MAMATHA\\\\Desktop\\\\planet\\\\train-jpg', x_col='image_name', y_col=y_col, \\\n",
    "       target_size=(64,64), class_mode='raw', seed=0, batch_size=64, subset='validation')"
   ]
  },
  {
   "cell_type": "code",
   "execution_count": 26,
   "id": "fecb84f8",
   "metadata": {},
   "outputs": [],
   "source": [
    "# setting step size for training and validation image data\n",
    "step_train_size = int(np.ceil(train_gen.samples / train_gen.batch_size))\n",
    "step_val_size = int(np.ceil(val_gen.samples / train_gen.batch_size))"
   ]
  },
  {
   "cell_type": "code",
   "execution_count": 27,
   "id": "f74ac931",
   "metadata": {},
   "outputs": [
    {
     "data": {
      "text/plain": [
       "633"
      ]
     },
     "execution_count": 27,
     "metadata": {},
     "output_type": "execute_result"
    }
   ],
   "source": [
    "step_train_size+step_val_size"
   ]
  },
  {
   "cell_type": "code",
   "execution_count": 28,
   "id": "5c26ff4c",
   "metadata": {},
   "outputs": [
    {
     "name": "stderr",
     "output_type": "stream",
     "text": [
      "c:\\users\\mamatha\\anaconda3\\envs\\sss\\lib\\site-packages\\keras\\optimizer_v2\\gradient_descent.py:102: UserWarning: The `lr` argument is deprecated, use `learning_rate` instead.\n",
      "  super(SGD, self).__init__(name, **kwargs)\n"
     ]
    },
    {
     "name": "stdout",
     "output_type": "stream",
     "text": [
      "506/506 [==============================] - 755s 1s/step - loss: 0.1691 - fbeta: 0.7719 - multi_label_acc: 0.9341 - val_loss: 0.1479 - val_fbeta: 0.8117 - val_multi_label_acc: 0.9417\n"
     ]
    },
    {
     "data": {
      "text/plain": [
       "<keras.callbacks.History at 0x2ca53c68f40>"
      ]
     },
     "execution_count": 28,
     "metadata": {},
     "output_type": "execute_result"
    }
   ],
   "source": [
    "from tensorflow.keras.models import Model\n",
    "from tensorflow.keras.applications.vgg16 import VGG16\n",
    "model1 = build_model() # building a sequential model for training\n",
    "\n",
    "model1.fit(x=train_gen, steps_per_epoch=step_train_size, validation_data=val_gen, validation_steps=step_val_size,epochs=1, callbacks=[save_best_check_point])"
   ]
  },
  {
   "cell_type": "code",
   "execution_count": 30,
   "id": "9fa4445b",
   "metadata": {},
   "outputs": [
    {
     "data": {
      "text/html": [
       "<div>\n",
       "<style scoped>\n",
       "    .dataframe tbody tr th:only-of-type {\n",
       "        vertical-align: middle;\n",
       "    }\n",
       "\n",
       "    .dataframe tbody tr th {\n",
       "        vertical-align: top;\n",
       "    }\n",
       "\n",
       "    .dataframe thead th {\n",
       "        text-align: right;\n",
       "    }\n",
       "</style>\n",
       "<table border=\"1\" class=\"dataframe\">\n",
       "  <thead>\n",
       "    <tr style=\"text-align: right;\">\n",
       "      <th></th>\n",
       "      <th>image_name</th>\n",
       "      <th>tags</th>\n",
       "    </tr>\n",
       "  </thead>\n",
       "  <tbody>\n",
       "    <tr>\n",
       "      <th>0</th>\n",
       "      <td>test_0.jpg</td>\n",
       "      <td>primary clear agriculture road water</td>\n",
       "    </tr>\n",
       "    <tr>\n",
       "      <th>1</th>\n",
       "      <td>test_1.jpg</td>\n",
       "      <td>primary clear agriculture road water</td>\n",
       "    </tr>\n",
       "    <tr>\n",
       "      <th>2</th>\n",
       "      <td>test_2.jpg</td>\n",
       "      <td>primary clear agriculture road water</td>\n",
       "    </tr>\n",
       "    <tr>\n",
       "      <th>3</th>\n",
       "      <td>test_3.jpg</td>\n",
       "      <td>primary clear agriculture road water</td>\n",
       "    </tr>\n",
       "    <tr>\n",
       "      <th>4</th>\n",
       "      <td>test_4.jpg</td>\n",
       "      <td>primary clear agriculture road water</td>\n",
       "    </tr>\n",
       "  </tbody>\n",
       "</table>\n",
       "</div>"
      ],
      "text/plain": [
       "   image_name                                  tags\n",
       "0  test_0.jpg  primary clear agriculture road water\n",
       "1  test_1.jpg  primary clear agriculture road water\n",
       "2  test_2.jpg  primary clear agriculture road water\n",
       "3  test_3.jpg  primary clear agriculture road water\n",
       "4  test_4.jpg  primary clear agriculture road water"
      ]
     },
     "execution_count": 30,
     "metadata": {},
     "output_type": "execute_result"
    }
   ],
   "source": [
    "sample_submission = test_df.copy()\n",
    "sample_submission['image_name'] = sample_submission['image_name'].apply(lambda x: '{}.jpg'.format(x))\n",
    "sample_submission.head()"
   ]
  },
  {
   "cell_type": "code",
   "execution_count": 32,
   "id": "a7cdf4b5",
   "metadata": {},
   "outputs": [
    {
     "name": "stdout",
     "output_type": "stream",
     "text": [
      "Found 40669 validated image filenames.\n"
     ]
    }
   ],
   "source": [
    "test1_df = sample_submission.iloc[:40669]['image_name'].reset_index().drop('index', axis=1)\n",
    "test1_df.head()\n",
    "test1_df.shape\n",
    "# initializing an image data generator object for the first 40669 images in the sample submission dataframe\n",
    "test_image_gen1 = tf.keras.preprocessing.image.ImageDataGenerator(rescale=1/255)\n",
    "\n",
    "# generating the image data for the first 40669 images in the sample submission dataframe\n",
    "test_gen1 = test_image_gen1.flow_from_dataframe(dataframe=test1_df, directory='C:\\\\Users\\\\MAMATHA\\\\Desktop\\\\planet\\\\test-jpg', x_col='image_name', y_col=None, batch_size=128, shuffle=False, class_mode=None, target_size=(64,64))\n",
    "\n",
    "# setting the step size for the testing set for the first 40669 images in the sample submission dataframe\n",
    "step_test_size1 = int(np.ceil(test_gen1.samples / test_gen1.batch_size))"
   ]
  },
  {
   "cell_type": "code",
   "execution_count": 34,
   "id": "7ca16f6d",
   "metadata": {},
   "outputs": [
    {
     "name": "stdout",
     "output_type": "stream",
     "text": [
      "318/318 [==============================] - 745s 2s/step\n"
     ]
    }
   ],
   "source": [
    "test_gen1.reset() # reseting the generator to be sure of avoiding shuffling\n",
    "pred1 = model1.predict(test_gen1, steps=step_test_size1, verbose=1)"
   ]
  },
  {
   "cell_type": "code",
   "execution_count": 35,
   "id": "e47bcbad",
   "metadata": {},
   "outputs": [
    {
     "data": {
      "text/html": [
       "<div>\n",
       "<style scoped>\n",
       "    .dataframe tbody tr th:only-of-type {\n",
       "        vertical-align: middle;\n",
       "    }\n",
       "\n",
       "    .dataframe tbody tr th {\n",
       "        vertical-align: top;\n",
       "    }\n",
       "\n",
       "    .dataframe thead th {\n",
       "        text-align: right;\n",
       "    }\n",
       "</style>\n",
       "<table border=\"1\" class=\"dataframe\">\n",
       "  <thead>\n",
       "    <tr style=\"text-align: right;\">\n",
       "      <th></th>\n",
       "      <th>image_name</th>\n",
       "      <th>tags</th>\n",
       "    </tr>\n",
       "  </thead>\n",
       "  <tbody>\n",
       "    <tr>\n",
       "      <th>0</th>\n",
       "      <td>test_0.jpg</td>\n",
       "      <td>primary clear</td>\n",
       "    </tr>\n",
       "    <tr>\n",
       "      <th>1</th>\n",
       "      <td>test_1.jpg</td>\n",
       "      <td>primary clear</td>\n",
       "    </tr>\n",
       "    <tr>\n",
       "      <th>2</th>\n",
       "      <td>test_2.jpg</td>\n",
       "      <td>primary partly_cloudy</td>\n",
       "    </tr>\n",
       "    <tr>\n",
       "      <th>3</th>\n",
       "      <td>test_3.jpg</td>\n",
       "      <td>primary clear</td>\n",
       "    </tr>\n",
       "    <tr>\n",
       "      <th>4</th>\n",
       "      <td>test_4.jpg</td>\n",
       "      <td>primary partly_cloudy</td>\n",
       "    </tr>\n",
       "  </tbody>\n",
       "</table>\n",
       "</div>"
      ],
      "text/plain": [
       "   image_name                   tags\n",
       "0  test_0.jpg          primary clear\n",
       "1  test_1.jpg          primary clear\n",
       "2  test_2.jpg  primary partly_cloudy\n",
       "3  test_3.jpg          primary clear\n",
       "4  test_4.jpg  primary partly_cloudy"
      ]
     },
     "execution_count": 35,
     "metadata": {},
     "output_type": "execute_result"
    }
   ],
   "source": [
    "test_file_names1 = test_gen1.filenames # storing the filenames (images names) of the first 40669 images names in \n",
    "                                       # the sample submission dataframe as ordered in the prediction as a \n",
    "                                       # variable\n",
    "\n",
    "# converting the predictions of the first 40669 to tag names\n",
    "pred_tags1 = pd.DataFrame(pred1)\n",
    "pred_tags1 = pred_tags1.apply(lambda x: ' '.join(np.array(unique_labels)[x > 0.5]), axis=1)\n",
    "\n",
    "# converting the predictions of the first 40669 to a dataframe\n",
    "result = pd.DataFrame({'image_name': test_file_names1, 'tags': pred_tags1})\n",
    "result.head()"
   ]
  },
  {
   "cell_type": "code",
   "execution_count": 38,
   "id": "c1ee960f",
   "metadata": {},
   "outputs": [
    {
     "data": {
      "text/html": [
       "<div>\n",
       "<style scoped>\n",
       "    .dataframe tbody tr th:only-of-type {\n",
       "        vertical-align: middle;\n",
       "    }\n",
       "\n",
       "    .dataframe tbody tr th {\n",
       "        vertical-align: top;\n",
       "    }\n",
       "\n",
       "    .dataframe thead th {\n",
       "        text-align: right;\n",
       "    }\n",
       "</style>\n",
       "<table border=\"1\" class=\"dataframe\">\n",
       "  <thead>\n",
       "    <tr style=\"text-align: right;\">\n",
       "      <th></th>\n",
       "      <th>image_name</th>\n",
       "      <th>tags</th>\n",
       "    </tr>\n",
       "  </thead>\n",
       "  <tbody>\n",
       "    <tr>\n",
       "      <th>0</th>\n",
       "      <td>test_0</td>\n",
       "      <td>primary clear</td>\n",
       "    </tr>\n",
       "    <tr>\n",
       "      <th>1</th>\n",
       "      <td>test_1</td>\n",
       "      <td>primary clear</td>\n",
       "    </tr>\n",
       "    <tr>\n",
       "      <th>2</th>\n",
       "      <td>test_2</td>\n",
       "      <td>primary partly_cloudy</td>\n",
       "    </tr>\n",
       "    <tr>\n",
       "      <th>3</th>\n",
       "      <td>test_3</td>\n",
       "      <td>primary clear</td>\n",
       "    </tr>\n",
       "    <tr>\n",
       "      <th>4</th>\n",
       "      <td>test_4</td>\n",
       "      <td>primary partly_cloudy</td>\n",
       "    </tr>\n",
       "  </tbody>\n",
       "</table>\n",
       "</div>"
      ],
      "text/plain": [
       "  image_name                   tags\n",
       "0     test_0          primary clear\n",
       "1     test_1          primary clear\n",
       "2     test_2  primary partly_cloudy\n",
       "3     test_3          primary clear\n",
       "4     test_4  primary partly_cloudy"
      ]
     },
     "execution_count": 38,
     "metadata": {},
     "output_type": "execute_result"
    }
   ],
   "source": [
    "# removing the .jpg extension from 'iamge_name' column\n",
    "result['image_name'] = result['image_name'].apply(lambda x: x[:-4])\n",
    "result.head()"
   ]
  },
  {
   "cell_type": "code",
   "execution_count": 39,
   "id": "895735d8",
   "metadata": {},
   "outputs": [],
   "source": [
    "result.to_csv('final_submission.csv', index=False) # saving the predictions"
   ]
  },
  {
   "cell_type": "code",
   "execution_count": null,
   "id": "b9d032a4",
   "metadata": {},
   "outputs": [],
   "source": []
  }
 ],
 "metadata": {
  "kernelspec": {
   "display_name": "Python 3 (ipykernel)",
   "language": "python",
   "name": "python3"
  },
  "language_info": {
   "codemirror_mode": {
    "name": "ipython",
    "version": 3
   },
   "file_extension": ".py",
   "mimetype": "text/x-python",
   "name": "python",
   "nbconvert_exporter": "python",
   "pygments_lexer": "ipython3",
   "version": "3.8.11"
  }
 },
 "nbformat": 4,
 "nbformat_minor": 5
}
